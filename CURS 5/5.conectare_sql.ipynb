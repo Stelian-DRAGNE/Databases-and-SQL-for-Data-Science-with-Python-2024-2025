{
 "cells": [
  {
   "cell_type": "code",
   "execution_count": 1,
   "id": "c67e88c2",
   "metadata": {},
   "outputs": [],
   "source": [
    "import mysql.connector"
   ]
  },
  {
   "cell_type": "code",
   "execution_count": 2,
   "id": "5b259302",
   "metadata": {},
   "outputs": [],
   "source": [
    "cnx = mysql.connector.connect(\n",
    "    host=\"127.0.0.1\",\n",
    "    port=3306,\n",
    "    user=\"root\",\n",
    "    password=\"Sergiu2019-@\")"
   ]
  },
  {
   "cell_type": "code",
   "execution_count": 3,
   "id": "6be8fe1a",
   "metadata": {},
   "outputs": [],
   "source": [
    "cur = cnx.cursor()"
   ]
  },
  {
   "cell_type": "code",
   "execution_count": 4,
   "id": "5787ea1d",
   "metadata": {},
   "outputs": [],
   "source": [
    "cur.execute(\"SHOW DATABASES\")"
   ]
  },
  {
   "cell_type": "code",
   "execution_count": 5,
   "id": "5ffbc7c7",
   "metadata": {},
   "outputs": [
    {
     "name": "stdout",
     "output_type": "stream",
     "text": [
      "('angajati',)\n",
      "('baza_de_date_1',)\n",
      "('baza_de_date_2',)\n",
      "('baza_de_date_3',)\n",
      "('baza_de_date_4',)\n",
      "('facultate',)\n",
      "('geografie',)\n",
      "('information_schema',)\n",
      "('masini furate',)\n",
      "('mydb',)\n",
      "('mysql',)\n",
      "('online_store',)\n",
      "('performance_schema',)\n",
      "('personal',)\n",
      "('python_created_db',)\n",
      "('sys',)\n",
      "('universitate',)\n",
      "('vremea',)\n"
     ]
    }
   ],
   "source": [
    "for db in cur:\n",
    "    print(db)"
   ]
  },
  {
   "cell_type": "code",
   "execution_count": 6,
   "id": "e9f5f8cf",
   "metadata": {},
   "outputs": [],
   "source": [
    "cur.execute(\"USE universitate\")"
   ]
  },
  {
   "cell_type": "code",
   "execution_count": 7,
   "id": "fd1060f4",
   "metadata": {},
   "outputs": [],
   "source": [
    "cur.execute('INSERT INTO profesor SET nume = \"Guido\", prenume = \"Van Rossum\", data_nasterii = \"1956-01-31\", adresa = 1')"
   ]
  },
  {
   "cell_type": "code",
   "execution_count": 8,
   "id": "cef2de12",
   "metadata": {},
   "outputs": [
    {
     "name": "stdout",
     "output_type": "stream",
     "text": [
      "(1, 'Popescu', 'Gica', 1, datetime.date(1964, 2, 1), 'I')\n",
      "(2, 'Marin', 'Andreea', 1, datetime.date(1989, 12, 30), 'II')\n",
      "(3, 'Florescu', 'Florina', 1, datetime.date(1989, 12, 10), 'II')\n",
      "(4, 'Ionescu', 'Ioan', 1, datetime.date(1969, 12, 9), 'III')\n",
      "(5, 'Marinescu', 'Marin', 1, datetime.date(1990, 10, 30), 'II')\n",
      "(6, 'Baturalp', 'Ece', 1, datetime.date(1968, 1, 7), 'I')\n",
      "(7, 'Haegele', 'Kaete', 1, datetime.date(1985, 4, 14), 'I')\n",
      "(8, 'Vernekar', 'Baljiwan', 1, datetime.date(1948, 3, 7), 'I')\n",
      "(9, 'Wilson', 'Isabella', 1, datetime.date(1988, 5, 13), 'I')\n",
      "(10, 'Yanovich', 'Ievfrosiniya', 1, datetime.date(1950, 12, 30), 'I')\n",
      "(11, 'da Rocha', 'Acilino', 1, datetime.date(1946, 5, 23), 'I')\n",
      "(12, 'Hieber', 'Margrit', 1, datetime.date(2000, 7, 12), 'I')\n",
      "(13, 'Macdonald', 'Brielle', 1, datetime.date(1984, 12, 20), 'I')\n",
      "(14, 'Rajala', 'Matilda', 1, datetime.date(1961, 8, 13), 'I')\n",
      "(15, 'Nielsen', 'Freja', 1, datetime.date(1994, 6, 14), 'I')\n",
      "(16, 'Guido', 'Van Rossum', 1, datetime.date(1956, 1, 31), 'I')\n"
     ]
    }
   ],
   "source": [
    "cur.execute(\"SELECT * FROM profesor\")\n",
    "for profesor in cur:\n",
    "    print(profesor)"
   ]
  },
  {
   "cell_type": "code",
   "execution_count": 9,
   "id": "46e069fb",
   "metadata": {},
   "outputs": [],
   "source": [
    "cnx.commit()"
   ]
  }
 ],
 "metadata": {
  "kernelspec": {
   "display_name": "Python 3",
   "language": "python",
   "name": "python3"
  },
  "language_info": {
   "codemirror_mode": {
    "name": "ipython",
    "version": 3
   },
   "file_extension": ".py",
   "mimetype": "text/x-python",
   "name": "python",
   "nbconvert_exporter": "python",
   "pygments_lexer": "ipython3",
   "version": "3.13.2"
  }
 },
 "nbformat": 4,
 "nbformat_minor": 5
}
